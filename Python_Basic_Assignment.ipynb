{
  "nbformat": 4,
  "nbformat_minor": 0,
  "metadata": {
    "colab": {
      "provenance": []
    },
    "kernelspec": {
      "name": "python3",
      "display_name": "Python 3"
    },
    "language_info": {
      "name": "python"
    }
  },
  "cells": [
    {
      "cell_type": "markdown",
      "source": [
        "# Python Basic Assignment\n"
      ],
      "metadata": {
        "id": "V_lNv7IjNIQY"
      }
    },
    {
      "cell_type": "markdown",
      "source": [
        "###Q.1 What is Python, and why is it popular?\n",
        "\n",
        "--> Python is a high-level, interpreted programming language known for its simplicity and readability. It was created by Guido van Rossum and first released in 1991. Python emphasizes code readability and uses indentation (whitespace) to define code blocks, which makes it easier to understand and write code.\n",
        "\n",
        "### Why is Python popular?\n",
        "\n",
        "Readability: Python's syntax is clear and easy to understand, making it a great language for beginners and experienced developers alike.\n",
        "\n",
        "Versatility: Python is extremely versatile and can be used for a wide range of applications, including:\n",
        "\n",
        "i. Web development (using frameworks like Django, Flask)\n",
        "\n",
        "ii. Data science (with libraries like pandas, NumPy, Matplotlib, and TensorFlow)\n",
        "\n",
        "iii. Automation (scripting tasks, automating repetitive actions)\n",
        "\n",
        "iv. Artificial Intelligence and Machine Learning"
      ],
      "metadata": {
        "id": "j8tgI8XNNPxB"
      }
    },
    {
      "cell_type": "markdown",
      "source": [
        "###Q.2. What is an interpreter in Python?\n",
        "\n",
        "--> In Python, an interpreter is a program that reads and executes the code line by line. Python is an interpreted language, meaning that the Python interpreter translates the human-readable Python code (source code) into machine-readable instructions that the computer can execute."
      ],
      "metadata": {
        "id": "gD1LzYY0OZUi"
      }
    },
    {
      "cell_type": "markdown",
      "source": [
        "### Q.3. What are pre-defined keywords in Python?\n",
        "\n",
        "--> In Python, pre-defined keywords (also called reserved keywords) are special words that have a predefined meaning in the language. These keywords cannot be used as variable names, function names, or identifiers because they are reserved for specific syntactical functions within the language.\n",
        "\n",
        "There are some pre-defined keywords below:\n",
        "\n",
        "i. False,\n",
        "ii. None,\n",
        "iii. True,\n",
        "iv. and,\n",
        "v. as,\n",
        "vi. assert,\n",
        "vii. async,\n",
        "viii. await,\n",
        "ix. break,\n",
        "x. class"
      ],
      "metadata": {
        "id": "0QJN0Z0wOmyx"
      }
    },
    {
      "cell_type": "markdown",
      "source": [
        "### Q.4. Can keywords be used as variable names ?\n",
        "\n",
        "--> No, keywords in Python cannot be used as variable names, function names, or identifiers. They are reserved words that have a special meaning in the Python language and are essential for its syntax and functionality."
      ],
      "metadata": {
        "id": "qK1oze06Pog9"
      }
    },
    {
      "cell_type": "markdown",
      "source": [
        "### Q.5. What is mutability in Python ?\n",
        "\n",
        "--> In Python, mutability refers to the ability of an object to change its value or state after it has been created. Mutable objects can be modified without creating a new object.\n",
        "\n",
        "Examples of mutable objects lists and dictionaries.\n",
        "\n",
        "Examples of immutable objects strings and tuples.\n"
      ],
      "metadata": {
        "id": "YyTTnqFBP8IW"
      }
    },
    {
      "cell_type": "markdown",
      "source": [
        "### Q.6. Why are lists mutable, but tuples are immutable ?\n",
        "\n",
        "--> Lists are mutable, while tuples are immutable due to fundamental differences in their design and purpose in Python.\n",
        "\n",
        "1.Lists (Mutable):\n",
        "\n",
        "i. Lists are designed to store dynamic collections of elements where modifications such as adding, removing, or changing elements are frequent.\n",
        "\n",
        "ii. Since lists allow modifications, Python provides methods like .append(), .remove(), and .sort() that change the list in place.\n",
        "\n",
        "iii. Internally, lists allocate extra memory to accommodate future changes, making them flexible.\n",
        "\n",
        "2.Tuples (Immutable):\n",
        "\n",
        "i. Tuples, on the other hand, are meant to be fixed sequences of elements.\n",
        "\n",
        "ii. Once a tuple is created, its size and contents cannot be modified.\n",
        "\n",
        "iii. This immutability makes tuples hashable, allowing them to be used as dictionary keys or set elements.\n",
        "\n",
        "iv. They also have performance benefits since Python can optimize memory allocation and access speed when working with immutable objects."
      ],
      "metadata": {
        "id": "vVq3TI9cQUjd"
      }
    },
    {
      "cell_type": "markdown",
      "source": [
        "### Q.7. What is the difference between “==” and “is” operators in Python ?\n",
        "\n",
        "--> In Python, the == operator compares the values of objects, while the is operator checks if two variables refer to the same object.\n",
        "\n",
        "\"==\" and \"is\" are both comparison operators, but they serve different purposes:\n",
        "\n",
        "1. == (Equality Operator):\n",
        "\n",
        "i. Checks whether values of two objects are the same.\n",
        "\n",
        "ii. Even if two different objects have the same value, == will return True.\n",
        "\n",
        "2. is (Identity Operator):\n",
        "\n",
        "i. Checks whether two objects refer to the same memory location (i.e., they are the same object).\n",
        "\n",
        "ii. Even if two objects have the same value, is will return False if they are stored at different locations."
      ],
      "metadata": {
        "id": "7kntB_l8RUFj"
      }
    },
    {
      "cell_type": "markdown",
      "source": [
        "### Q.8. What are logical operators in Python ?\n",
        "\n",
        "--> Logical operators in Python are symbols that evaluate conditions and perform logical operations, such as \"and\", \"or\", and \"not\". They are also called Boolean operators because they convert operands to Boolean values (True or False).\n",
        "\n",
        "Types of logical operators:\n",
        "\n",
        "i. Logical AND: Combines two conditions\n",
        "\n",
        "ii. Logical OR: Combines two conditions\n",
        "\n",
        "iii. Logical NOT: Reverses the truth value of its operand"
      ],
      "metadata": {
        "id": "MX1eu71mR8m4"
      }
    },
    {
      "cell_type": "markdown",
      "source": [
        "### Q.9. What is type casting in Python ?\n",
        "\n",
        "--> Type casting in Python refers to the process of converting a variable from one data type to another. This is often necessary when you want to perform operations that require specific data types or when you want to ensure that data is in the correct format for processing.\n",
        "\n",
        "####Types of Type Casting:\n",
        "There are two main types of type casting in Python:\n",
        "\n",
        "i. Implicit Type-casting\n",
        "\n",
        "ii. Explicit Type-casting"
      ],
      "metadata": {
        "id": "j0CJuiy6S5Vb"
      }
    },
    {
      "cell_type": "markdown",
      "source": [
        "### Q.10. What is the difference between implicit and explicit type casting ?\n",
        "\n",
        "--> i. Implicit Type Casting (Automatic Type Conversion):\n",
        "\n",
        "This occurs when Python automatically converts one data type to another without explicit instruction from the programmer. This usually happens when performing operations involving different data types.\n",
        "\n",
        "For example, when you add an integer and a float, Python automatically converts the integer to a float.\n",
        "\n",
        "ii. Explicit Type Casting (Type Conversion):\n",
        "\n",
        "This occurs when you manually convert one data type to another using built-in functions. Python provides several functions for explicit type casting.\n",
        "\n",
        "int(): Converts a value to an integer.\n",
        "\n",
        "float(): Converts a value to a float.\n",
        "\n",
        "str(): Converts a value to a string.\n",
        "\n",
        "list(): Converts a value to a list.\n",
        "\n",
        "tuple(): Converts a value to a tuple.\n",
        "\n",
        "set(): Converts a value to a set."
      ],
      "metadata": {
        "id": "muNnWMtcTn5x"
      }
    },
    {
      "cell_type": "markdown",
      "source": [
        "### Q.11.  What is the purpose of conditional statements in Python ?\n",
        "\n",
        "--> The purpose of conditional statements in Python is to control the flow of code execution based on certain conditions. This can help make code more efficient and easier to read."
      ],
      "metadata": {
        "id": "Yx5OgDNnUOaJ"
      }
    },
    {
      "cell_type": "markdown",
      "source": [
        "### Q.12. How does the elif statement work ?\n",
        "\n",
        "--> The “elif” keyword in Python, stands for “else if”. It can be used in conditional statements to check for multiple conditions.\n",
        "\n",
        "For example, if the first condition is false, it moves on to the next “elif” statement to check if that condition is true."
      ],
      "metadata": {
        "id": "gvrEZ_ISUbM5"
      }
    },
    {
      "cell_type": "markdown",
      "source": [
        "### Q.13. What is the difference between for and while loops ?\n",
        "\n",
        "--> In Python, both for loops and while loops are used for iteration, but they have different use cases and behaviors.\n",
        "\n",
        "####for Loop:\n",
        "\n",
        "i. Definition: A for loop is used to iterate over a sequence (like a list, tuple, string, or range) or any iterable object. It executes a block of code for each item in the sequence.\n",
        "\n",
        "ii. Syntax:\n",
        "\n",
        "  for variable in iterable:\n",
        "    # Code block to execute\n",
        "\n",
        "iii. Use Case:\n",
        "\n",
        "Use a for loop when you know the number of iterations in advance or when you want to iterate over the elements of a collection.\n",
        "\n",
        "####While Loop:\n",
        "\n",
        "i. Definition: A while loop repeatedly executes a block of code as long as a specified condition is True. It checks the condition before each iteration.\n",
        "\n",
        "ii. Syntax:\n",
        "\n",
        "while condition:\n",
        "    # Code block to execute\n",
        "\n",
        "iii. Use Case:\n",
        "Use a while loop when the number of iterations is not known in advance and depends on a condition being met."
      ],
      "metadata": {
        "id": "XgSzUBm2UpX_"
      }
    },
    {
      "cell_type": "markdown",
      "source": [
        "### Q.14. Describe a scenario where a while loop is more suitable than a for loop.\n",
        "\n",
        "--> A scenario where a while loop is more suitable than a for loop is when you need to repeatedly execute a block of code until a certain condition is met, and the number of iterations is not known in advance.\n",
        "\n",
        "####Example Scenario: User Input Validation:\n",
        "\n",
        "Imagine you are creating a simple program that prompts a user to enter a valid password. The program should keep asking the user for a password until they enter one that meets specific criteria (e.g., at least 8 characters long, contains at least one uppercase letter, one lowercase letter, and one digit).\n",
        "\n",
        "In this case, the number of iterations is not predetermined because the user could enter an invalid password multiple times before finally entering a valid one. A while loop is ideal for this situation.\n",
        "\n",
        "####Implementation:\n",
        "\n",
        "Here’s how you might implement this using a while loop:"
      ],
      "metadata": {
        "id": "T46DuoGGV7nS"
      }
    },
    {
      "cell_type": "code",
      "source": [
        "def is_valid_password(password):\n",
        "    # Check if the password meets the criteria\n",
        "    if (len(password) >= 8 and\n",
        "        any(char.isupper() for char in password) and\n",
        "        any(char.islower() for char in password) and\n",
        "        any(char.isdigit() for char in password)):\n",
        "        return True\n",
        "    return False\n",
        "\n",
        "# Initialize an empty password\n",
        "password = \"\"\n",
        "\n",
        "# Keep prompting the user until a valid password is entered\n",
        "while not is_valid_password(password):\n",
        "    password = input(\"Enter a valid password (at least 8 characters, with uppercase, lowercase, and digits): \")\n",
        "\n",
        "print(\"Password accepted!\")"
      ],
      "metadata": {
        "colab": {
          "base_uri": "https://localhost:8080/"
        },
        "id": "b9QRwwt1WUf_",
        "outputId": "9502ce42-8dfb-40c6-941e-16696aabe555"
      },
      "execution_count": 1,
      "outputs": [
        {
          "output_type": "stream",
          "name": "stdout",
          "text": [
            "Enter a valid password (at least 8 characters, with uppercase, lowercase, and digits): Hima7852\n",
            "Password accepted!\n"
          ]
        }
      ]
    },
    {
      "cell_type": "markdown",
      "source": [
        "####Explanation:\n",
        "Condition-Based Looping: The while loop continues to execute as long as the password is not valid. This allows for an indefinite number of iterations until the user provides a valid input.\n",
        "\n",
        "User Interaction: The loop is well-suited for scenarios where user input is involved, as the user may need multiple attempts to provide a valid password.\n",
        "\n",
        "Flexibility: The loop can handle any number of invalid attempts without needing to know in advance how many times the user will need to try."
      ],
      "metadata": {
        "id": "xUQjjqL9WlaM"
      }
    },
    {
      "cell_type": "markdown",
      "source": [
        "## Practical Questions"
      ],
      "metadata": {
        "id": "1hIgvmKAWuBl"
      }
    },
    {
      "cell_type": "markdown",
      "source": [
        "### Q.1. Write a Python program to print \"Hello, World!\"."
      ],
      "metadata": {
        "id": "6rzTCmsxWx1g"
      }
    },
    {
      "cell_type": "code",
      "execution_count": 2,
      "metadata": {
        "colab": {
          "base_uri": "https://localhost:8080/"
        },
        "id": "_E_1XB0UNCGF",
        "outputId": "adae619f-295c-483f-8ae4-48b1fc35af6b"
      },
      "outputs": [
        {
          "output_type": "stream",
          "name": "stdout",
          "text": [
            "Hello, World!\n"
          ]
        }
      ],
      "source": [
        "print(\"Hello, World!\")\n"
      ]
    },
    {
      "cell_type": "markdown",
      "source": [
        "### Q.2. Write a Python program that displays your name and age."
      ],
      "metadata": {
        "id": "cyXcQQ-JXBaW"
      }
    },
    {
      "cell_type": "code",
      "source": [
        "name = \"Your Name\"\n",
        "age = 30\n",
        "\n",
        "print(f\"My name is {name} and I am {age} years old.\")\n"
      ],
      "metadata": {
        "colab": {
          "base_uri": "https://localhost:8080/"
        },
        "id": "MWr-VkGrXAoJ",
        "outputId": "a1cdb21d-f034-4fc1-8125-1989b6db641c"
      },
      "execution_count": 3,
      "outputs": [
        {
          "output_type": "stream",
          "name": "stdout",
          "text": [
            "My name is Your Name and I am 30 years old.\n"
          ]
        }
      ]
    },
    {
      "cell_type": "markdown",
      "source": [
        "### Q.3.  Write code to print all the pre-defined keywords in Python using the keyword library."
      ],
      "metadata": {
        "id": "8f4P5BLAXSEV"
      }
    },
    {
      "cell_type": "code",
      "source": [
        "import keyword\n",
        "\n",
        "keyword.kwlist\n"
      ],
      "metadata": {
        "colab": {
          "base_uri": "https://localhost:8080/"
        },
        "id": "OiCaqgbvXPvi",
        "outputId": "afad0f4e-3ed8-4e3a-8185-7b8e7de69d03"
      },
      "execution_count": 4,
      "outputs": [
        {
          "output_type": "execute_result",
          "data": {
            "text/plain": [
              "['False',\n",
              " 'None',\n",
              " 'True',\n",
              " 'and',\n",
              " 'as',\n",
              " 'assert',\n",
              " 'async',\n",
              " 'await',\n",
              " 'break',\n",
              " 'class',\n",
              " 'continue',\n",
              " 'def',\n",
              " 'del',\n",
              " 'elif',\n",
              " 'else',\n",
              " 'except',\n",
              " 'finally',\n",
              " 'for',\n",
              " 'from',\n",
              " 'global',\n",
              " 'if',\n",
              " 'import',\n",
              " 'in',\n",
              " 'is',\n",
              " 'lambda',\n",
              " 'nonlocal',\n",
              " 'not',\n",
              " 'or',\n",
              " 'pass',\n",
              " 'raise',\n",
              " 'return',\n",
              " 'try',\n",
              " 'while',\n",
              " 'with',\n",
              " 'yield']"
            ]
          },
          "metadata": {},
          "execution_count": 4
        }
      ]
    },
    {
      "cell_type": "markdown",
      "source": [
        "### Q.4.  Write a program that checks if a given word is a Python keyword."
      ],
      "metadata": {
        "id": "fKObhqR7Xcqx"
      }
    },
    {
      "cell_type": "code",
      "source": [
        "import keyword\n",
        "\n",
        "# Get user input\n",
        "word = input(\"Enter a word: \")\n",
        "\n",
        "# Check if it's a keyword\n",
        "if keyword.iskeyword(word):\n",
        "    print(f\"'{word}' is a Python keyword.\")\n",
        "else:\n",
        "    print(f\"'{word}' is NOT a Python keyword.\")"
      ],
      "metadata": {
        "colab": {
          "base_uri": "https://localhost:8080/"
        },
        "id": "oXEkjIK4Xbkl",
        "outputId": "1325d51c-9fee-45e0-92c6-429cfd895054"
      },
      "execution_count": 6,
      "outputs": [
        {
          "output_type": "stream",
          "name": "stdout",
          "text": [
            "Enter a word: for\n",
            "'for' is a Python keyword.\n"
          ]
        }
      ]
    },
    {
      "cell_type": "markdown",
      "source": [
        "### Q.5. Create a list and tuple in Python, and demonstrate how attempting to change an element works differently for each."
      ],
      "metadata": {
        "id": "IoDdB9XkYFEH"
      }
    },
    {
      "cell_type": "code",
      "source": [
        "# Create a list\n",
        "my_list = [1, 2, 3, 4, 5]\n",
        "\n",
        "# Attempt to change an element in the list\n",
        "my_list[0] = 10\n",
        "print(\"Modified list:\", my_list)  # Output: Modified list: [10, 2, 3, 4, 5]\n",
        "\n",
        "# Create a tuple\n",
        "my_tuple = (1, 2, 3, 4, 5)\n",
        "\n",
        "# Attempt to change an element in the tuple (this will raise a TypeError)\n",
        "try:\n",
        "    my_tuple[0] = 10\n",
        "except TypeError as e:\n",
        "    print(\"Error modifying tuple:\", e)\n"
      ],
      "metadata": {
        "colab": {
          "base_uri": "https://localhost:8080/"
        },
        "id": "wvEFGKnyX5Ri",
        "outputId": "4911c1ec-50be-46f8-e739-9aec7a6c1a63"
      },
      "execution_count": 7,
      "outputs": [
        {
          "output_type": "stream",
          "name": "stdout",
          "text": [
            "Modified list: [10, 2, 3, 4, 5]\n",
            "Error modifying tuple: 'tuple' object does not support item assignment\n"
          ]
        }
      ]
    },
    {
      "cell_type": "markdown",
      "source": [
        "### Q.6. Write a function to demonstrate the behavior of mutable and immutable arguments."
      ],
      "metadata": {
        "id": "o3bRjNaqYZEp"
      }
    },
    {
      "cell_type": "code",
      "source": [
        "def modify_data(immutable_var, mutable_var):\n",
        "\n",
        "    immutable_var += 10\n",
        "    print(f\"Inside function (immutable): {immutable_var}\")\n",
        "\n",
        "    mutable_var.append(4)\n",
        "    print(f\"Inside function (mutable): {mutable_var}\")\n",
        "\n",
        "# Immutable argument (integer)\n",
        "num = 5\n",
        "\n",
        "# Mutable argument (list)\n",
        "numbers = [1, 2, 3]\n",
        "\n",
        "print(f\"Before function call: num = {num}, numbers = {numbers}\")\n",
        "\n",
        "modify_data(num, numbers)\n",
        "\n",
        "print(f\"After function call: num = {num}, numbers = {numbers}\")"
      ],
      "metadata": {
        "colab": {
          "base_uri": "https://localhost:8080/"
        },
        "id": "tyP-3jucYSZ1",
        "outputId": "a09e42bf-2a44-4602-ae14-a6cc662acde5"
      },
      "execution_count": 8,
      "outputs": [
        {
          "output_type": "stream",
          "name": "stdout",
          "text": [
            "Before function call: num = 5, numbers = [1, 2, 3]\n",
            "Inside function (immutable): 15\n",
            "Inside function (mutable): [1, 2, 3, 4]\n",
            "After function call: num = 5, numbers = [1, 2, 3, 4]\n"
          ]
        }
      ]
    },
    {
      "cell_type": "markdown",
      "source": [
        "### Q.7. Write a program that performs basic arithmetic operations on two user-input numbers."
      ],
      "metadata": {
        "id": "QC7eDC2OYyMe"
      }
    },
    {
      "cell_type": "code",
      "source": [
        "num1 = float(input(\"Enter first number: \"))\n",
        "num2 = float(input(\"Enter second number: \"))\n",
        "\n",
        "# Perform arithmetic operations\n",
        "addition = num1 + num2\n",
        "subtraction = num1 - num2\n",
        "multiplication = num1 * num2\n",
        "\n",
        "# Handling division by zero\n",
        "if num2 != 0:\n",
        "    division = num1 / num2\n",
        "else:\n",
        "    division = \"Undefined (Cannot divide by zero)\"\n",
        "\n",
        "# Display results\n",
        "print(\"\\nResults:\")\n",
        "print(f\"Addition: {num1} + {num2} = {addition}\")\n",
        "print(f\"Subtraction: {num1} - {num2} = {subtraction}\")\n",
        "print(f\"Multiplication: {num1} * {num2} = {multiplication}\")\n",
        "print(f\"Division: {num1} / {num2} = {division}\")"
      ],
      "metadata": {
        "colab": {
          "base_uri": "https://localhost:8080/"
        },
        "id": "uiLjDA1xZLf-",
        "outputId": "cb04cc7e-12ed-47bb-d273-c29a6e19e0ba"
      },
      "execution_count": 10,
      "outputs": [
        {
          "output_type": "stream",
          "name": "stdout",
          "text": [
            "Enter first number: 5\n",
            "Enter second number: 10\n",
            "\n",
            "Results:\n",
            "Addition: 5.0 + 10.0 = 15.0\n",
            "Subtraction: 5.0 - 10.0 = -5.0\n",
            "Multiplication: 5.0 * 10.0 = 50.0\n",
            "Division: 5.0 / 10.0 = 0.5\n"
          ]
        }
      ]
    },
    {
      "cell_type": "markdown",
      "source": [
        "### Q.8. Write a program to demonstrate the use of logical operators."
      ],
      "metadata": {
        "id": "wdVdueKdZWXu"
      }
    },
    {
      "cell_type": "code",
      "source": [
        "x = True\n",
        "y = False\n",
        "\n",
        "# Logical AND\n",
        "print(f\"x and y: {x and y}\")\n",
        "\n",
        "# Logical OR\n",
        "print(f\"x or y: {x or y}\")\n",
        "\n",
        "# Logical NOT\n",
        "print(f\"not x: {not x}\")\n",
        "print(f\"not y: {not y}\")\n",
        "\n",
        "# Combined logical operations\n",
        "print(f\"x and (not y): {x and (not y)}\")\n",
        "print(f\"(not x) or y: {(not x) or y}\")\n"
      ],
      "metadata": {
        "colab": {
          "base_uri": "https://localhost:8080/"
        },
        "id": "sQ8S7SqSZReM",
        "outputId": "ea91582d-486e-433c-9ccb-d0a3a3bd8bfb"
      },
      "execution_count": 11,
      "outputs": [
        {
          "output_type": "stream",
          "name": "stdout",
          "text": [
            "x and y: False\n",
            "x or y: True\n",
            "not x: False\n",
            "not y: True\n",
            "x and (not y): True\n",
            "(not x) or y: False\n"
          ]
        }
      ]
    },
    {
      "cell_type": "markdown",
      "source": [
        "### Q.9. Write a Python program to convert user input from string to integer, float, and boolean types."
      ],
      "metadata": {
        "id": "Y_nEjKK5Z_IS"
      }
    },
    {
      "cell_type": "code",
      "source": [
        "user_input = input(\"Enter a value: \")\n",
        "\n",
        "# Convert to integer\n",
        "try:\n",
        "    integer_value = int(user_input)\n",
        "    print(f\"Integer: {integer_value}\")\n",
        "except ValueError:\n",
        "    print(\"Invalid input for integer conversion.\")\n",
        "\n",
        "# Convert to float\n",
        "try:\n",
        "    float_value = float(user_input)\n",
        "    print(f\"Float: {float_value}\")\n",
        "except ValueError:\n",
        "    print(\"Invalid input for float conversion.\")\n",
        "\n",
        "# Convert to boolean\n",
        "try:\n",
        "  boolean_value = bool(user_input)\n",
        "  print(f\"Boolean: {boolean_value}\")\n",
        "except ValueError:\n",
        "  print(\"Invalid input for boolean conversion\")\n"
      ],
      "metadata": {
        "colab": {
          "base_uri": "https://localhost:8080/"
        },
        "id": "Z-t5ro7aZ7hy",
        "outputId": "71ae6009-3ee0-4428-cecf-7b9cd6b5cd8d"
      },
      "execution_count": 12,
      "outputs": [
        {
          "output_type": "stream",
          "name": "stdout",
          "text": [
            "Enter a value: 5\n",
            "Integer: 5\n",
            "Float: 5.0\n",
            "Boolean: True\n"
          ]
        }
      ]
    },
    {
      "cell_type": "markdown",
      "source": [
        "### Q.10. Write code to demonstrate type casting with list elements."
      ],
      "metadata": {
        "id": "j3zmikK6aX86"
      }
    },
    {
      "cell_type": "code",
      "source": [
        "my_list = [10, \"20\", 30.5, \"40.7\"]\n",
        "\n",
        "# Convert elements to integers\n",
        "int_list = []\n",
        "for item in my_list:\n",
        "    try:\n",
        "        int_list.append(int(item))\n",
        "    except ValueError:\n",
        "        print(f\"Could not convert '{item}' to an integer.\")\n",
        "        int_list.append(item)\n",
        "\n",
        "print(\"List after converting to integers:\", int_list)\n",
        "\n",
        "\n",
        "# Convert elements to floats\n",
        "float_list = []\n",
        "for item in my_list:\n",
        "    try:\n",
        "        float_list.append(float(item))\n",
        "    except ValueError:\n",
        "        print(f\"Could not convert '{item}' to a float.\")\n",
        "        float_list.append(item)\n",
        "print(\"List after converting to floats:\", float_list)\n",
        "\n",
        "# Convert elements to strings (if not already strings)\n",
        "string_list = []\n",
        "for item in my_list:\n",
        "    string_list.append(str(item))\n",
        "\n",
        "print(\"List after converting to strings:\", string_list)\n"
      ],
      "metadata": {
        "colab": {
          "base_uri": "https://localhost:8080/"
        },
        "id": "GZYD6QPZaJms",
        "outputId": "942a7d69-7f12-49ec-c061-f9aa94c55220"
      },
      "execution_count": 13,
      "outputs": [
        {
          "output_type": "stream",
          "name": "stdout",
          "text": [
            "Could not convert '40.7' to an integer.\n",
            "List after converting to integers: [10, 20, 30, '40.7']\n",
            "List after converting to floats: [10.0, 20.0, 30.5, 40.7]\n",
            "List after converting to strings: ['10', '20', '30.5', '40.7']\n"
          ]
        }
      ]
    },
    {
      "cell_type": "markdown",
      "source": [
        "### Q.11. Write a program that checks if a number is positive, negative, or zero."
      ],
      "metadata": {
        "id": "viUKJicgamnN"
      }
    },
    {
      "cell_type": "code",
      "source": [
        "def check_number(number):\n",
        "    if number > 0:\n",
        "        print(f\"{number} is positive.\")\n",
        "    elif number < 0:\n",
        "        print(f\"{number} is negative.\")\n",
        "    else:\n",
        "        print(f\"{number} is zero.\")\n",
        "\n",
        "num = float(input(\"Enter a number: \"))\n",
        "\n",
        "check_number(num)\n"
      ],
      "metadata": {
        "colab": {
          "base_uri": "https://localhost:8080/"
        },
        "id": "M5skrRbka1nk",
        "outputId": "77fceeec-1d84-40d4-f9e0-6b7a63fb549b"
      },
      "execution_count": 14,
      "outputs": [
        {
          "output_type": "stream",
          "name": "stdout",
          "text": [
            "Enter a number: 15\n",
            "15.0 is positive.\n"
          ]
        }
      ]
    },
    {
      "cell_type": "markdown",
      "source": [
        "### Q.12. Write a for loop to print numbers from 1 to 10."
      ],
      "metadata": {
        "id": "VuBmaxj-a65w"
      }
    },
    {
      "cell_type": "code",
      "source": [
        "for number in range(1, 11):\n",
        "    print(number, end = \" \")"
      ],
      "metadata": {
        "colab": {
          "base_uri": "https://localhost:8080/"
        },
        "id": "v5ZAmY-Ca4Vs",
        "outputId": "ccbfd4e3-a0ea-45f1-a8ce-5b55b52fd250"
      },
      "execution_count": 16,
      "outputs": [
        {
          "output_type": "stream",
          "name": "stdout",
          "text": [
            "1 2 3 4 5 6 7 8 9 10 "
          ]
        }
      ]
    },
    {
      "cell_type": "markdown",
      "source": [
        "### Q.13. Write a Python program to find the sum of all even numbers between 1 and 50."
      ],
      "metadata": {
        "id": "QLeHjQJgbJ2A"
      }
    },
    {
      "cell_type": "code",
      "source": [
        "sum_of_evens = 0\n",
        "\n",
        "for number in range(1, 51):\n",
        "    if number % 2 == 0:\n",
        "        sum_of_evens += number\n",
        "\n",
        "print(\"The sum of all even numbers between 1 and 50 is:\", sum_of_evens)\n"
      ],
      "metadata": {
        "colab": {
          "base_uri": "https://localhost:8080/"
        },
        "id": "FV0-xutNbEmk",
        "outputId": "2472bd5b-dba9-4fb7-812b-f85b23eaf9f0"
      },
      "execution_count": 18,
      "outputs": [
        {
          "output_type": "stream",
          "name": "stdout",
          "text": [
            "The sum of all even numbers between 1 and 50 is: 650\n"
          ]
        }
      ]
    },
    {
      "cell_type": "markdown",
      "source": [
        "### Q.14. Write a program to reverse a string using a while loop."
      ],
      "metadata": {
        "id": "Xfx-iZNYbuAw"
      }
    },
    {
      "cell_type": "code",
      "source": [
        "def reverse_string_while(input_string):\n",
        "    reversed_string = \"\"\n",
        "    index = len(input_string) - 1\n",
        "    while index >= 0:\n",
        "        reversed_string += input_string[index]\n",
        "        index -= 1\n",
        "    return reversed_string\n",
        "\n",
        "string_to_reverse = \"hello\"\n",
        "reversed_string = reverse_string_while(string_to_reverse)\n",
        "print(f\"Reversed string: {reversed_string}\")"
      ],
      "metadata": {
        "colab": {
          "base_uri": "https://localhost:8080/"
        },
        "id": "PxM8Mce8b5z1",
        "outputId": "2bc77bc3-d3e1-4016-c71e-9d74ab36af61"
      },
      "execution_count": 19,
      "outputs": [
        {
          "output_type": "stream",
          "name": "stdout",
          "text": [
            "Reversed string: olleh\n"
          ]
        }
      ]
    },
    {
      "cell_type": "markdown",
      "source": [
        "### Q.15. Write a Python program to calculate the factorial of a number provided by the user using a while loop."
      ],
      "metadata": {
        "id": "Frb9uGMAb8fg"
      }
    },
    {
      "cell_type": "code",
      "source": [
        "def factorial_while(n):\n",
        "    if n < 0:\n",
        "        return \"Factorial is not defined for negative numbers\"\n",
        "    elif n == 0:\n",
        "        return 1\n",
        "    else:\n",
        "        fact = 1\n",
        "        i = 1\n",
        "        while i <= n:\n",
        "            fact *= i\n",
        "            i += 1\n",
        "        return fact\n",
        "\n",
        "\n",
        "num = int(input(\"Enter a non-negative integer: \"))\n",
        "\n",
        "result = factorial_while(num)\n",
        "print(f\"The factorial of {num} is {result}\")\n"
      ],
      "metadata": {
        "colab": {
          "base_uri": "https://localhost:8080/"
        },
        "id": "VlYW_nuSb7Y5",
        "outputId": "115119b9-b9ac-476f-8283-13e8b9f6dc01"
      },
      "execution_count": 22,
      "outputs": [
        {
          "output_type": "stream",
          "name": "stdout",
          "text": [
            "Enter a non-negative integer: 6\n",
            "The factorial of 6 is 720\n"
          ]
        }
      ]
    }
  ]
}